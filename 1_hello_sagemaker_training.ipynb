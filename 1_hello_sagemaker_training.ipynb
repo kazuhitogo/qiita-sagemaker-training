{
 "cells": [
  {
   "cell_type": "code",
   "execution_count": null,
   "id": "840012dc",
   "metadata": {
    "scrolled": true
   },
   "outputs": [],
   "source": [
    "pip install sagemaker -U"
   ]
  },
  {
   "cell_type": "code",
   "execution_count": null,
   "id": "2c73fc79",
   "metadata": {},
   "outputs": [],
   "source": [
    "import sagemaker\n",
    "print(sagemaker.__version__)"
   ]
  },
  {
   "cell_type": "code",
   "execution_count": null,
   "id": "5806886b",
   "metadata": {},
   "outputs": [],
   "source": [
    "!pygmentize ./src/1/hello_sagemaker_training.py"
   ]
  },
  {
   "cell_type": "code",
   "execution_count": null,
   "id": "22567b91",
   "metadata": {
    "scrolled": true
   },
   "outputs": [],
   "source": [
    "from sagemaker.tensorflow import TensorFlow\n",
    "\n",
    "estimator = TensorFlow(\n",
    "    entry_point='./src/1-1/hello_sagemaker_training.py',\n",
    "    py_version='py38', \n",
    "    framework_version='2.6.0',\n",
    "    instance_count=1,\n",
    "    instance_type='ml.m5.xlarge',\n",
    "    role=sagemaker.get_execution_role()\n",
    ")\n",
    "estimator.fit()"
   ]
  },
  {
   "cell_type": "code",
   "execution_count": null,
   "id": "3d590997",
   "metadata": {},
   "outputs": [],
   "source": [
    "from sagemaker.pytorch import PyTorch\n",
    "estimator = PyTorch(\n",
    "    entry_point='./src/1-1/hello_sagemaker_training.py',\n",
    "    py_version='py38', \n",
    "    framework_version='1.9.1',\n",
    "    instance_count=1,\n",
    "    instance_type='ml.m5.xlarge',\n",
    "    role=sagemaker.get_execution_role()\n",
    ")\n",
    "estimator.fit()"
   ]
  },
  {
   "cell_type": "code",
   "execution_count": null,
   "id": "8b9ce7fe",
   "metadata": {
    "scrolled": true
   },
   "outputs": [],
   "source": [
    "from sagemaker.mxnet import MXNet\n",
    "estimator = MXNet(\n",
    "    entry_point='./src/1-1/hello_sagemaker_training.py',\n",
    "    py_version='py37', \n",
    "    framework_version='1.8.0',\n",
    "    instance_count=1,\n",
    "    instance_type='ml.m4.xlarge',\n",
    "    role=sagemaker.get_execution_role()\n",
    ")\n",
    "estimator.fit()"
   ]
  },
  {
   "cell_type": "code",
   "execution_count": null,
   "id": "e4e71271",
   "metadata": {
    "scrolled": true
   },
   "outputs": [],
   "source": [
    "from sagemaker.sklearn import SKLearn\n",
    "estimator = SKLearn(\n",
    "    entry_point='./src/1-1/hello_sagemaker_training.py',\n",
    "    py_version='py3', \n",
    "    framework_version='0.23-1',\n",
    "    instance_count=1,\n",
    "    instance_type='ml.c5.xlarge',\n",
    "    role=sagemaker.get_execution_role()\n",
    ")\n",
    "estimator.fit()"
   ]
  },
  {
   "cell_type": "code",
   "execution_count": null,
   "id": "5541da44",
   "metadata": {
    "scrolled": true
   },
   "outputs": [],
   "source": [
    "estimator.latest_training_job.describe()"
   ]
  },
  {
   "cell_type": "code",
   "execution_count": null,
   "id": "6dc5404a",
   "metadata": {
    "scrolled": true
   },
   "outputs": [],
   "source": [
    "from sagemaker.sklearn import SKLearn\n",
    "estimator = SKLearn(\n",
    "    entry_point='./src/1-1/hello_sagemaker_training.py',\n",
    "    image_uri = estimator.latest_training_job.describe()['AlgorithmSpecification']['TrainingImage'],\n",
    "    instance_count=1,\n",
    "    instance_type='ml.c5.xlarge',\n",
    "    role=sagemaker.get_execution_role()\n",
    ")\n",
    "estimator.fit()"
   ]
  },
  {
   "cell_type": "code",
   "execution_count": null,
   "id": "9274acfc",
   "metadata": {},
   "outputs": [],
   "source": [
    "cat ./data/1-2/calc.txt"
   ]
  },
  {
   "cell_type": "code",
   "execution_count": null,
   "id": "bfa22223",
   "metadata": {},
   "outputs": [],
   "source": [
    "with open('./data/1-2/calc.txt','rt') as f:\n",
    "    input_text_lines = f.read()\n",
    "for input_text in input_text_lines.split('\\n'):\n",
    "    print(eval(input_text))"
   ]
  },
  {
   "cell_type": "code",
   "execution_count": null,
   "id": "628760a5",
   "metadata": {},
   "outputs": [],
   "source": [
    "import sagemaker\n",
    "input_s3_uri = sagemaker.session.Session().upload_data(path='./data/1-2/calc.txt', bucket=sagemaker.session.Session().default_bucket(), key_prefix='training/1-2')\n",
    "print(input_s3_uri)"
   ]
  },
  {
   "cell_type": "code",
   "execution_count": null,
   "id": "2386e109",
   "metadata": {
    "scrolled": true
   },
   "outputs": [],
   "source": [
    "from sagemaker.tensorflow import TensorFlow\n",
    "estimator = TensorFlow(\n",
    "    entry_point='./src/1-2/calc.py',\n",
    "    py_version='py38', \n",
    "    framework_version='2.6.0',\n",
    "    instance_count=1,\n",
    "    instance_type='ml.m5.xlarge',\n",
    "    role=sagemaker.get_execution_role()\n",
    ")\n",
    "estimator.fit(input_s3_uri)"
   ]
  },
  {
   "cell_type": "code",
   "execution_count": null,
   "id": "56ec4ddb",
   "metadata": {},
   "outputs": [],
   "source": [
    "import sagemaker\n",
    "from sagemaker.tensorflow import TensorFlow\n",
    "input_s3_uri = sagemaker.session.Session().upload_data(path='./data/1-3/', bucket=sagemaker.session.Session().default_bucket(), key_prefix='training/1-3')\n",
    "print(input_s3_uri)\n",
    "estimator = TensorFlow(\n",
    "    entry_point='./src/1-3/calc.py',\n",
    "    py_version='py38', \n",
    "    framework_version='2.6.0',\n",
    "    instance_count=1,\n",
    "    instance_type='ml.m5.xlarge',\n",
    "    role=sagemaker.get_execution_role()\n",
    ")\n",
    "estimator.fit(input_s3_uri)"
   ]
  },
  {
   "cell_type": "code",
   "execution_count": null,
   "id": "caa245d1",
   "metadata": {},
   "outputs": [],
   "source": []
  }
 ],
 "metadata": {
  "kernelspec": {
   "display_name": "conda_python3",
   "language": "python",
   "name": "conda_python3"
  },
  "language_info": {
   "codemirror_mode": {
    "name": "ipython",
    "version": 3
   },
   "file_extension": ".py",
   "mimetype": "text/x-python",
   "name": "python",
   "nbconvert_exporter": "python",
   "pygments_lexer": "ipython3",
   "version": "3.6.13"
  }
 },
 "nbformat": 4,
 "nbformat_minor": 5
}
