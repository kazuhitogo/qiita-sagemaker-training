{
 "cells": [
  {
   "cell_type": "code",
   "execution_count": null,
   "id": "31bc6815",
   "metadata": {},
   "outputs": [],
   "source": [
    "import tensorflow as tf\n",
    "\n",
    "# データロード\n",
    "(x_train,y_train),(x_valid,y_valid) = tf.keras.datasets.cifar10.load_data()\n",
    "x_train = x_train/255\n",
    "x_valid = x_valid/255\n",
    "\n",
    "# モデル定義\n",
    "model = tf.keras.models.Sequential()\n",
    "model.add(\n",
    "    tf.keras.layers.Conv2D(\n",
    "        filters=16,kernel_size=(3,3),padding=\"same\",activation=\"relu\",\n",
    "        input_shape=(x_train.shape[1],x_train.shape[2],x_train.shape[3])\n",
    "    )\n",
    ")\n",
    "model.add(tf.keras.layers.Flatten())\n",
    "model.add(tf.keras.layers.Dense(10,activation=\"softmax\"))\n",
    "\n",
    "# トレーニング\n",
    "model.compile(\n",
    "    optimizer=tf.keras.optimizers.Adam(lr=0.00001),\n",
    "    metrics=['accuracy'],loss=\"sparse_categorical_crossentropy\"\n",
    ")\n",
    "model.fit(x_train,y_train,batch_size=4,epochs=2,validation_data=(x_valid,y_valid))\n",
    "\n",
    "# モデルの保存\n",
    "model.save('./1')"
   ]
  },
  {
   "cell_type": "code",
   "execution_count": null,
   "id": "25ff76aa",
   "metadata": {},
   "outputs": [],
   "source": [
    "import sagemaker\n",
    "from sagemaker.tensorflow import TensorFlow\n",
    "\n",
    "estimator = TensorFlow(\n",
    "    entry_point='./src/4-1/train.py',\n",
    "    py_version='py38', \n",
    "    framework_version='2.6.0',\n",
    "    instance_count=1,\n",
    "    instance_type='ml.m5.xlarge',\n",
    "    role=sagemaker.get_execution_role()\n",
    ")\n",
    "estimator.fit()"
   ]
  },
  {
   "cell_type": "code",
   "execution_count": null,
   "id": "2bb5d853",
   "metadata": {},
   "outputs": [],
   "source": [
    "import sagemaker\n",
    "from sagemaker.tensorflow import TensorFlow\n",
    "\n",
    "estimator = TensorFlow(\n",
    "    entry_point='./src/4-2/train.py',\n",
    "    py_version='py38', \n",
    "    framework_version='2.6.0',\n",
    "    instance_count=1,\n",
    "    instance_type='ml.m5.xlarge',\n",
    "    role=sagemaker.get_execution_role()\n",
    ")\n",
    "estimator.fit()"
   ]
  },
  {
   "cell_type": "code",
   "execution_count": null,
   "id": "b9aab66b",
   "metadata": {},
   "outputs": [],
   "source": [
    "model_uri = estimator.latest_training_job.describe()['ModelArtifacts']['S3ModelArtifacts']\n",
    "!aws s3 cp {model_uri} ./\n",
    "!tar zxvf model.tar.gz"
   ]
  },
  {
   "cell_type": "code",
   "execution_count": null,
   "id": "13826faa",
   "metadata": {},
   "outputs": [],
   "source": [
    "import tensorflow as tf\n",
    "model = tf.keras.models.load_model('./1')\n",
    "model.summary()"
   ]
  },
  {
   "cell_type": "code",
   "execution_count": null,
   "id": "3dbf3fad",
   "metadata": {},
   "outputs": [],
   "source": []
  }
 ],
 "metadata": {
  "kernelspec": {
   "display_name": "conda_amazonei_tensorflow2_p36",
   "language": "python",
   "name": "conda_amazonei_tensorflow2_p36"
  },
  "language_info": {
   "codemirror_mode": {
    "name": "ipython",
    "version": 3
   },
   "file_extension": ".py",
   "mimetype": "text/x-python",
   "name": "python",
   "nbconvert_exporter": "python",
   "pygments_lexer": "ipython3",
   "version": "3.6.13"
  }
 },
 "nbformat": 4,
 "nbformat_minor": 5
}
