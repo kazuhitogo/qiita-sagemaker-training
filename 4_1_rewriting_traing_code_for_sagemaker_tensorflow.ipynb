{
 "cells": [
  {
   "cell_type": "code",
   "execution_count": null,
   "metadata": {
    "scrolled": true
   },
   "outputs": [],
   "source": [
    "!pip install sagemaker -U"
   ]
  },
  {
   "cell_type": "code",
   "execution_count": null,
   "metadata": {},
   "outputs": [],
   "source": [
    "import tensorflow as tf\n",
    "\n",
    "# データロード\n",
    "(x_train,y_train),(x_valid,y_valid) = tf.keras.datasets.cifar10.load_data()\n",
    "x_train = x_train/255\n",
    "x_valid = x_valid/255\n",
    "\n",
    "# モデル定義\n",
    "model = tf.keras.models.Sequential()\n",
    "model.add(tf.keras.layers.Conv2D(filters=16,kernel_size=(3,3),padding=\"same\",activation=\"relu\",input_shape=(x_train.shape[1],x_train.shape[2],x_train.shape[3])))\n",
    "model.add(tf.keras.layers.Flatten())\n",
    "model.add(tf.keras.layers.Dense(10,activation=\"softmax\"))\n",
    "model.compile(optimizer=tf.keras.optimizers.Adam(learning_rate=0.00001),metrics=['accuracy'],loss=\"sparse_categorical_crossentropy\")\n",
    "\n",
    "# トレーニング\n",
    "model.fit(x_train,y_train,batch_size=4,epochs=2,validation_data=(x_valid,y_valid))\n",
    "\n",
    "# モデルの保存\n",
    "model.save('./1')"
   ]
  },
  {
   "cell_type": "code",
   "execution_count": null,
   "metadata": {},
   "outputs": [],
   "source": [
    "import sagemaker\n",
    "from sagemaker.tensorflow import TensorFlow\n",
    "\n",
    "estimator = TensorFlow(\n",
    "    entry_point='./src/4-1-1/train.py',\n",
    "    py_version='py38', \n",
    "    framework_version='2.6.0',\n",
    "    instance_count=1,\n",
    "    instance_type='ml.m5.xlarge',\n",
    "    role=sagemaker.get_execution_role()\n",
    ")\n",
    "estimator.fit()"
   ]
  },
  {
   "cell_type": "code",
   "execution_count": null,
   "metadata": {
    "scrolled": true
   },
   "outputs": [],
   "source": [
    "import sagemaker\n",
    "from sagemaker.tensorflow import TensorFlow\n",
    "\n",
    "estimator = TensorFlow(\n",
    "    entry_point='./src/4-1-2/train.py',\n",
    "    py_version='py38', \n",
    "    framework_version='2.6.0',\n",
    "    instance_count=1,\n",
    "    instance_type='ml.m5.xlarge',\n",
    "    role=sagemaker.get_execution_role()\n",
    ")\n",
    "estimator.fit()"
   ]
  },
  {
   "cell_type": "code",
   "execution_count": null,
   "metadata": {},
   "outputs": [],
   "source": [
    "# モデルの URI を取得\n",
    "model_uri = estimator.latest_training_job.describe()['ModelArtifacts']['S3ModelArtifacts']\n",
    "# モデルをローカルにコピーして解凍\n",
    "!aws s3 cp {model_uri} ./\n",
    "!tar zxvf model.tar.gz\n",
    "# モデルの読み込み\n",
    "import tensorflow as tf\n",
    "model = tf.keras.models.load_model('./1')\n",
    "model.summary()"
   ]
  },
  {
   "cell_type": "code",
   "execution_count": null,
   "metadata": {},
   "outputs": [],
   "source": [
    "!mkdir -p ./train\n",
    "!mkdir -p ./valid\n",
    "\n",
    "import tensorflow as tf\n",
    "import numpy as np\n",
    "\n",
    "(x_train,y_train),(x_valid,y_valid) = tf.keras.datasets.cifar10.load_data()\n",
    "x_train = x_train/255\n",
    "x_valid = x_valid/255\n",
    "\n",
    "np.save('./train/x_train.npy',x_train)\n",
    "np.save('./train/y_train.npy',y_train)\n",
    "np.save('./valid/x_valid.npy',x_valid)\n",
    "np.save('./valid/y_valid.npy',y_valid)\n",
    "train_s3_uri = sagemaker.session.Session().upload_data(path='./train/', bucket=sagemaker.session.Session().default_bucket(), key_prefix='training/4-1/train')\n",
    "valid_s3_uri = sagemaker.session.Session().upload_data(path='./valid/', bucket=sagemaker.session.Session().default_bucket(), key_prefix='training/4-1/valid')"
   ]
  },
  {
   "cell_type": "code",
   "execution_count": null,
   "metadata": {
    "scrolled": true
   },
   "outputs": [],
   "source": [
    "import sagemaker\n",
    "from sagemaker.tensorflow import TensorFlow\n",
    "estimator = TensorFlow(\n",
    "    entry_point='./src/4-1-3/train.py',\n",
    "    py_version='py38', \n",
    "    framework_version='2.6.0',\n",
    "    instance_count=1,\n",
    "    instance_type='ml.m5.xlarge',\n",
    "    role=sagemaker.get_execution_role()\n",
    ")\n",
    "estimator.fit({\n",
    "    'train':train_s3_uri,\n",
    "    'valid':valid_s3_uri,\n",
    "})"
   ]
  },
  {
   "cell_type": "code",
   "execution_count": null,
   "metadata": {},
   "outputs": [],
   "source": [
    "# モデルの URI を取得\n",
    "model_uri = estimator.latest_training_job.describe()['ModelArtifacts']['S3ModelArtifacts']\n",
    "# モデルをローカルにコピーして解凍\n",
    "!rm model.tar.gz\n",
    "!rm -rf ./1\n",
    "!aws s3 cp {model_uri} ./\n",
    "!tar zxvf model.tar.gz\n",
    "# モデルの読み込み\n",
    "import tensorflow as tf\n",
    "model = tf.keras.models.load_model('./1')\n",
    "model.summary()"
   ]
  },
  {
   "cell_type": "code",
   "execution_count": null,
   "metadata": {
    "scrolled": true
   },
   "outputs": [],
   "source": [
    "import sagemaker\n",
    "from sagemaker.tensorflow import TensorFlow\n",
    "estimator = TensorFlow(\n",
    "    entry_point='./src/4-1-4/train.py',\n",
    "    py_version='py38', \n",
    "    framework_version='2.6.0',\n",
    "    instance_count=1,\n",
    "    instance_type='ml.m5.xlarge',\n",
    "    role=sagemaker.get_execution_role(),\n",
    "    hyperparameters={\n",
    "        'filters': 8,\n",
    "        'epochs': 1,\n",
    "        'batch_size': 16,\n",
    "        'learning_rate': 0.001\n",
    "    }\n",
    ")\n",
    "estimator.fit({\n",
    "    'train':train_s3_uri,\n",
    "    'valid':valid_s3_uri,\n",
    "})"
   ]
  },
  {
   "cell_type": "code",
   "execution_count": null,
   "metadata": {},
   "outputs": [],
   "source": [
    "# モデルの URI を取得\n",
    "model_uri = estimator.latest_training_job.describe()['ModelArtifacts']['S3ModelArtifacts']\n",
    "# モデルをローカルにコピーして解凍\n",
    "!rm model.tar.gz\n",
    "!rm -rf ./1\n",
    "!aws s3 cp {model_uri} ./\n",
    "!tar zxvf model.tar.gz\n",
    "# モデルの読み込み\n",
    "import tensorflow as tf\n",
    "model = tf.keras.models.load_model('./1')\n",
    "model.summary()"
   ]
  },
  {
   "cell_type": "code",
   "execution_count": null,
   "metadata": {},
   "outputs": [],
   "source": []
  }
 ],
 "metadata": {
  "instance_type": "ml.t3.medium",
  "kernelspec": {
   "display_name": "Python 3 (TensorFlow 2.6 Python 3.8 CPU Optimized)",
   "language": "python",
   "name": "python3__SAGEMAKER_INTERNAL__arn:aws:sagemaker:us-east-2:429704687514:image/tensorflow-2.6-cpu-py38-ubuntu20.04-v1"
  },
  "language_info": {
   "codemirror_mode": {
    "name": "ipython",
    "version": 3
   },
   "file_extension": ".py",
   "mimetype": "text/x-python",
   "name": "python",
   "nbconvert_exporter": "python",
   "pygments_lexer": "ipython3",
   "version": "3.8.2"
  }
 },
 "nbformat": 4,
 "nbformat_minor": 5
}
