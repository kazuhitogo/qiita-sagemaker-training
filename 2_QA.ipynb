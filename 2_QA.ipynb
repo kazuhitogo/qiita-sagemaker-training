{
 "cells": [
  {
   "cell_type": "code",
   "execution_count": null,
   "id": "9a1d9a9e",
   "metadata": {},
   "outputs": [],
   "source": [
    "import sagemaker"
   ]
  },
  {
   "cell_type": "code",
   "execution_count": null,
   "id": "a778c8d8",
   "metadata": {
    "scrolled": true
   },
   "outputs": [],
   "source": [
    "training_input_s3_uri = sagemaker.session.Session().upload_data(path='./data/2-1/training/', bucket=sagemaker.session.Session().default_bucket(), key_prefix='qiita-sagemaker-training/2-1/training')\n",
    "validation_input_s3_uri = sagemaker.session.Session().upload_data(path='./data/2-1/validation/', bucket=sagemaker.session.Session().default_bucket(), key_prefix='qiita-sagemaker-training/2-1/validation')\n",
    "test_input_s3_uri = sagemaker.session.Session().upload_data(path='./data/2-1/test/', bucket=sagemaker.session.Session().default_bucket(), key_prefix='qiita-sagemaker-training/2-1/test')"
   ]
  },
  {
   "cell_type": "code",
   "execution_count": null,
   "id": "198e6190",
   "metadata": {
    "scrolled": true
   },
   "outputs": [],
   "source": [
    "from sagemaker.tensorflow import TensorFlow\n",
    "estimator = TensorFlow(\n",
    "    entry_point='check.py',\n",
    "    source_dir = './src/2-1',\n",
    "    py_version='py38', \n",
    "    framework_version='2.6.0',\n",
    "    instance_count=1,\n",
    "    instance_type='ml.m5.xlarge',\n",
    "    role=sagemaker.get_execution_role(),\n",
    "    hyperparameters={ # ハイパーパラメータはダミーです\n",
    "        'first-num':5,\n",
    "        'second-num':2,\n",
    "        'operator':'m',\n",
    "        'sagemaker_s3_output':f's3://{sagemaker.session.Session().default_bucket()}/intermediate'\n",
    "    },\n",
    "    volume_size=50, # 50GBを指定\n",
    ")\n",
    "estimator.fit({\n",
    "    'training':training_input_s3_uri,\n",
    "    'validation':validation_input_s3_uri,\n",
    "    'test': test_input_s3_uri\n",
    "})"
   ]
  },
  {
   "cell_type": "code",
   "execution_count": null,
   "id": "30dca85e",
   "metadata": {},
   "outputs": [],
   "source": [
    "from sagemaker.tensorflow import TensorFlow\n",
    "estimator = TensorFlow(\n",
    "    entry_point='check.py',\n",
    "    source_dir = './src/2-1',\n",
    "    py_version='py38', \n",
    "    framework_version='2.6.0',\n",
    "    instance_count=1,\n",
    "    instance_type='ml.g4dn.xlarge',\n",
    "    role=sagemaker.get_execution_role(),\n",
    "    hyperparameters={ # ハイパーパラメータはダミーです\n",
    "        'first-num':5,\n",
    "        'second-num':2,\n",
    "        'operator':'m'\n",
    "    },\n",
    "    volume_size=50, # 50GBを指定\n",
    ")\n",
    "estimator.fit()"
   ]
  },
  {
   "cell_type": "code",
   "execution_count": null,
   "id": "e3a2025b",
   "metadata": {},
   "outputs": [],
   "source": [
    "from sagemaker.tensorflow import TensorFlow\n",
    "estimator = TensorFlow(\n",
    "    entry_point='check.py',\n",
    "    source_dir = './src/2-1',\n",
    "    py_version='py38', \n",
    "    framework_version='2.6.0',\n",
    "    instance_count=1,\n",
    "    instance_type='ml.m5.xlarge',\n",
    "    role=sagemaker.get_execution_role(),\n",
    "    hyperparameters={ # ハイパーパラメータはダミーです\n",
    "        'first-num':5,\n",
    "        'second-num':2,\n",
    "        'operator':'m',\n",
    "        'sagemaker_s3_output':f's3://{sagemaker.session.Session().default_bucket()}/intermediate'\n",
    "    },\n",
    "    volume_size=50, # 50GBを指定\n",
    ")\n",
    "estimator.fit({\n",
    "    'training':training_input_s3_uri,\n",
    "    'validation':validation_input_s3_uri,\n",
    "    'test': test_input_s3_uri\n",
    "})"
   ]
  }
 ],
 "metadata": {
  "kernelspec": {
   "display_name": "conda_python3",
   "language": "python",
   "name": "conda_python3"
  },
  "language_info": {
   "codemirror_mode": {
    "name": "ipython",
    "version": 3
   },
   "file_extension": ".py",
   "mimetype": "text/x-python",
   "name": "python",
   "nbconvert_exporter": "python",
   "pygments_lexer": "ipython3",
   "version": "3.6.13"
  }
 },
 "nbformat": 4,
 "nbformat_minor": 5
}
