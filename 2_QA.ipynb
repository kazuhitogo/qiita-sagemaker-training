{
 "cells": [
  {
   "cell_type": "code",
   "execution_count": null,
   "id": "8a7452c1",
   "metadata": {},
   "outputs": [],
   "source": [
    "import sagemaker"
   ]
  },
  {
   "cell_type": "code",
   "execution_count": null,
   "id": "ac7c80df",
   "metadata": {
    "scrolled": true
   },
   "outputs": [],
   "source": [
    "training_input_s3_uri = sagemaker.session.Session().upload_data(path='./data/2-1/training/', bucket=sagemaker.session.Session().default_bucket(), key_prefix='qiita-sagemaker-training/2-1/training')\n",
    "validation_input_s3_uri = sagemaker.session.Session().upload_data(path='./data/2-1/validation/', bucket=sagemaker.session.Session().default_bucket(), key_prefix='qiita-sagemaker-training/2-1/validation')\n",
    "test_input_s3_uri = sagemaker.session.Session().upload_data(path='./data/2-1/test/', bucket=sagemaker.session.Session().default_bucket(), key_prefix='qiita-sagemaker-training/2-1/test')"
   ]
  },
  {
   "cell_type": "code",
   "execution_count": null,
   "id": "d7d4392b",
   "metadata": {
    "scrolled": true
   },
   "outputs": [],
   "source": [
    "from sagemaker.tensorflow import TensorFlow\n",
    "estimator = TensorFlow(\n",
    "    entry_point='check.py',\n",
    "    source_dir = './src/2-1',\n",
    "    py_version='py38', \n",
    "    framework_version='2.6.0',\n",
    "    instance_count=1,\n",
    "    instance_type='ml.m5.xlarge',\n",
    "    role=sagemaker.get_execution_role(),\n",
    "    hyperparameters={ # ハイパーパラメータはダミーです\n",
    "        'first-num':5,\n",
    "        'second-num':2,\n",
    "        'operator':'m',\n",
    "        'sagemaker_s3_output':f's3://{sagemaker.session.Session().default_bucket()}/intermediate'\n",
    "    },\n",
    "    volume_size=50, # 50GBを指定\n",
    ")\n",
    "estimator.fit({\n",
    "    'training':training_input_s3_uri,\n",
    "    'validation':validation_input_s3_uri,\n",
    "    'test': test_input_s3_uri\n",
    "})"
   ]
  },
  {
   "cell_type": "code",
   "execution_count": null,
   "id": "0c08a468",
   "metadata": {},
   "outputs": [],
   "source": [
    "from sagemaker.tensorflow import TensorFlow\n",
    "estimator = TensorFlow(\n",
    "    entry_point='check.py',\n",
    "    source_dir = './src/2-1',\n",
    "    py_version='py38', \n",
    "    framework_version='2.6.0',\n",
    "    instance_count=1,\n",
    "    instance_type='ml.g4dn.xlarge',\n",
    "    role=sagemaker.get_execution_role(),\n",
    "    hyperparameters={ # ハイパーパラメータはダミーです\n",
    "        'first-num':5,\n",
    "        'second-num':2,\n",
    "        'operator':'m'\n",
    "    },\n",
    "    volume_size=50, # 50GBを指定\n",
    ")\n",
    "estimator.fit()"
   ]
  },
  {
   "cell_type": "code",
   "execution_count": null,
   "id": "5d023110",
   "metadata": {},
   "outputs": [],
   "source": [
    "from sagemaker.tensorflow import TensorFlow\n",
    "git_config = {'repo': 'https://github.com/kazuhitogo/qiita-sagemaker-training'}\n",
    "estimator = TensorFlow(\n",
    "    entry_point='check.py',\n",
    "    source_dir = './src/2-1',\n",
    "    git_config=git_config,\n",
    "    py_version='py38', \n",
    "    framework_version='2.6.0',\n",
    "    instance_count=1,\n",
    "    instance_type='ml.m5.xlarge',\n",
    "    role=sagemaker.get_execution_role(),\n",
    "    hyperparameters={ # ハイパーパラメータはダミーです\n",
    "        'first-num':5,\n",
    "        'second-num':2,\n",
    "        'operator':'m',\n",
    "        'sagemaker_s3_output':f's3://{sagemaker.session.Session().default_bucket()}/intermediate'\n",
    "    },\n",
    "    volume_size=50, # 50GBを指定\n",
    ")\n",
    "estimator.fit({\n",
    "    'training':training_input_s3_uri,\n",
    "    'validation':validation_input_s3_uri,\n",
    "    'test': test_input_s3_uri\n",
    "})"
   ]
  },
  {
   "cell_type": "code",
   "execution_count": null,
   "id": "e449a85b",
   "metadata": {},
   "outputs": [],
   "source": [
    "# 前回のイメージとコードを利用する\n",
    "image_uri = estimator.latest_training_job.describe()['AlgorithmSpecification']['TrainingImage']\n",
    "source_tar_gz = estimator.latest_training_job.describe()['HyperParameters']['sagemaker_submit_directory']"
   ]
  },
  {
   "cell_type": "code",
   "execution_count": null,
   "id": "41bc9dd6",
   "metadata": {},
   "outputs": [],
   "source": [
    "# 前回のイメージとコードを利用する\n",
    "image_uri = estimator.latest_training_job.describe()['AlgorithmSpecification']['TrainingImage']\n",
    "source_tar_gz = estimator.latest_training_job.describe()['HyperParameters']['sagemaker_submit_directory']\n",
    "estimator = sagemaker.estimator.Estimator(\n",
    "    image_uri=image_uri,\n",
    "    role=sagemaker.get_execution_role(),\n",
    "    hyperparameters={\n",
    "        'first-num':5,\n",
    "        'second-num':2,\n",
    "        'operator':'m',\n",
    "        'sagemaker_s3_output':f's3://{sagemaker.session.Session().default_bucket()}/intermediate',\n",
    "        'sagemaker_program' : 'check.py',\n",
    "        'sagemaker_submit_directory' : source_tar_gz\n",
    "   },\n",
    "   instance_count=1,\n",
    "   instance_type='ml.g4dn.xlarge',\n",
    ")\n",
    "estimator.fit({\n",
    "    'training':training_input_s3_uri,\n",
    "    'validation':validation_input_s3_uri,\n",
    "    'test': test_input_s3_uri\n",
    "})"
   ]
  },
  {
   "cell_type": "code",
   "execution_count": null,
   "id": "2e9dddcc",
   "metadata": {},
   "outputs": [],
   "source": [
    "import boto3\n",
    "sm_client = boto3.client('sagemaker')\n",
    "\n",
    "# トレーニングジョブのリストを取得\n",
    "print(sm_client.list_training_jobs())\n",
    "# 最後のトレーニングジョブの詳細を取得\n",
    "print(sm_client.describe_training_job(TrainingJobName=sm_client.list_training_jobs()['TrainingJobSummaries'][0]['TrainingJobName']))"
   ]
  },
  {
   "cell_type": "code",
   "execution_count": null,
   "id": "b39cf5a7",
   "metadata": {},
   "outputs": [],
   "source": [
    "sm_client.list_training_jobs()['TrainingJobSummaries'][0]['TrainingJobName']"
   ]
  },
  {
   "cell_type": "code",
   "execution_count": null,
   "id": "8cbfffed",
   "metadata": {},
   "outputs": [],
   "source": []
  }
 ],
 "metadata": {
  "kernelspec": {
   "display_name": "conda_python3",
   "language": "python",
   "name": "conda_python3"
  },
  "language_info": {
   "codemirror_mode": {
    "name": "ipython",
    "version": 3
   },
   "file_extension": ".py",
   "mimetype": "text/x-python",
   "name": "python",
   "nbconvert_exporter": "python",
   "pygments_lexer": "ipython3",
   "version": "3.6.13"
  }
 },
 "nbformat": 4,
 "nbformat_minor": 5
}
