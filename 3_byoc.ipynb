{
 "cells": [
  {
   "cell_type": "code",
   "execution_count": null,
   "id": "e771dabc",
   "metadata": {
    "scrolled": true
   },
   "outputs": [],
   "source": [
    "IMAGE_NAME='sagemaker-slim-buster'\n",
    "TAG = ':python39'\n",
    "\n",
    "%cd container/3-1\n",
    "!docker build -t {IMAGE_NAME}{TAG} . \n",
    "%cd ../../"
   ]
  },
  {
   "cell_type": "code",
   "execution_count": null,
   "id": "3dc0f0d2",
   "metadata": {
    "scrolled": true
   },
   "outputs": [],
   "source": [
    "# boto3の機能を使ってリポジトリ名に必要な情報を取得する\n",
    "import boto3\n",
    "MY_ACCOUNT_ID = boto3.client('sts').get_caller_identity().get('Account')\n",
    "REGION = boto3.session.Session().region_name\n",
    "# ECR へ Docker Image の push\n",
    "MY_ECR_ENDPOINT = f'{MY_ACCOUNT_ID}.dkr.ecr.{REGION}.amazonaws.com/'\n",
    "\n",
    "MY_REPOSITORY_URI = f'{MY_ECR_ENDPOINT}{IMAGE_NAME}'\n",
    "MY_IMAGE_URI = f'{MY_REPOSITORY_URI}{TAG}'\n",
    "\n",
    "!$(aws ecr get-login --region {REGION} --registry-ids {MY_ACCOUNT_ID} --no-include-email)\n",
    " \n",
    "# # リポジトリの作成\n",
    "!aws ecr delete-repository --repository-name {IMAGE_NAME} --force # 同名のリポジトリがあった場合削除\n",
    "!aws ecr create-repository --repository-name {IMAGE_NAME}\n",
    " \n",
    "!docker tag {IMAGE_NAME}{TAG} {MY_IMAGE_URI}\n",
    "!docker push {MY_IMAGE_URI}\n",
    "\n",
    "print(f'コンテナイメージは {MY_IMAGE_URI} へ登録されています。')"
   ]
  },
  {
   "cell_type": "code",
   "execution_count": null,
   "id": "6254a4e4",
   "metadata": {},
   "outputs": [],
   "source": [
    "from sagemaker.estimator import Estimator\n",
    "\n",
    "estimator = Estimator(\n",
    "    image_uri = MY_IMAGE_URI,\n",
    "    role=sagemaker.get_execution_role(),\n",
    "    instance_count=1,\n",
    "    instance_type='ml.m5.xlarge',\n",
    ")\n",
    "estimator.fit()"
   ]
  },
  {
   "cell_type": "code",
   "execution_count": null,
   "id": "4db7dbfe",
   "metadata": {},
   "outputs": [],
   "source": [
    "IMAGE_NAME='sagemaker-slim-buster'\n",
    "TAG = ':python39-sagemaker-training'\n",
    "\n",
    "%cd container/3-2\n",
    "!docker build -t {IMAGE_NAME}{TAG} . \n",
    "%cd ../../\n",
    "\n",
    "# boto3の機能を使ってリポジトリ名に必要な情報を取得する\n",
    "import boto3\n",
    "MY_ACCOUNT_ID = boto3.client('sts').get_caller_identity().get('Account')\n",
    "REGION = boto3.session.Session().region_name\n",
    "# ECR へ Docker Image の push\n",
    "MY_ECR_ENDPOINT = f'{MY_ACCOUNT_ID}.dkr.ecr.{REGION}.amazonaws.com/'\n",
    "\n",
    "MY_REPOSITORY_URI = f'{MY_ECR_ENDPOINT}{IMAGE_NAME}'\n",
    "MY_IMAGE_URI = f'{MY_REPOSITORY_URI}{TAG}'\n",
    "\n",
    "!$(aws ecr get-login --region {REGION} --registry-ids {MY_ACCOUNT_ID} --no-include-email)\n",
    "\n",
    "!docker tag {IMAGE_NAME}{TAG} {MY_IMAGE_URI}\n",
    "!docker push {MY_IMAGE_URI}\n",
    "\n",
    "print(f'コンテナイメージは {MY_IMAGE_URI} へ登録されています。')"
   ]
  },
  {
   "cell_type": "code",
   "execution_count": null,
   "id": "71dbd526",
   "metadata": {
    "scrolled": true
   },
   "outputs": [],
   "source": [
    "input_s3_uri = sagemaker.session.Session().upload_data(path='./data/1-5/', bucket=sagemaker.session.Session().default_bucket(), key_prefix='training/1-5')\n",
    "from sagemaker.tensorflow import TensorFlow\n",
    "estimator = TensorFlow(\n",
    "    entry_point='./src/1-5/concat.py',\n",
    "    image_uri=MY_IMAGE_URI,\n",
    "    instance_count=1,\n",
    "    instance_type='ml.m5.xlarge',\n",
    "    role=sagemaker.get_execution_role()\n",
    ")\n",
    "estimator.fit(input_s3_uri)"
   ]
  },
  {
   "cell_type": "code",
   "execution_count": null,
   "id": "e97ec7fc",
   "metadata": {},
   "outputs": [],
   "source": [
    "import tarfile\n",
    "prefix = estimator.latest_training_job.describe()['ModelArtifacts']['S3ModelArtifacts'].replace(f's3://{sagemaker.session.Session().default_bucket()}/','')\n",
    "sagemaker.session.Session().download_data('./', sagemaker.session.Session().default_bucket(), key_prefix=prefix)\n",
    "with tarfile.open('./model.tar.gz', 'r') as f:\n",
    "    f.extractall()\n",
    "!cat output.csv"
   ]
  },
  {
   "cell_type": "code",
   "execution_count": null,
   "id": "4809732c",
   "metadata": {},
   "outputs": [],
   "source": []
  }
 ],
 "metadata": {
  "kernelspec": {
   "display_name": "conda_python3",
   "language": "python",
   "name": "conda_python3"
  },
  "language_info": {
   "codemirror_mode": {
    "name": "ipython",
    "version": 3
   },
   "file_extension": ".py",
   "mimetype": "text/x-python",
   "name": "python",
   "nbconvert_exporter": "python",
   "pygments_lexer": "ipython3",
   "version": "3.6.13"
  }
 },
 "nbformat": 4,
 "nbformat_minor": 5
}
