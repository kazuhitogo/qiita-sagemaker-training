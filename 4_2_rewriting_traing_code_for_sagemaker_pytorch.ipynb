{
 "cells": [
  {
   "cell_type": "code",
   "execution_count": null,
   "metadata": {},
   "outputs": [],
   "source": [
    "!pip install sagemaker -U"
   ]
  },
  {
   "cell_type": "code",
   "execution_count": null,
   "metadata": {},
   "outputs": [],
   "source": [
    "import torch\n",
    "import torchvision\n",
    "\n",
    "# データロード\n",
    "trainset = torchvision.datasets.CIFAR10(root='./data', train=True,download=True, transform=torchvision.transforms.Compose([torchvision.transforms.ToTensor()]))\n",
    "trainloader = torch.utils.data.DataLoader(trainset, batch_size=4, shuffle=True, num_workers=2)\n",
    "validset = torchvision.datasets.CIFAR10(root='./data', train=False,download=True, transform=torchvision.transforms.Compose([torchvision.transforms.ToTensor()]))\n",
    "validloader = torch.utils.data.DataLoader(validset, batch_size=4,shuffle=False, num_workers=2)\n",
    "\n",
    "#モデル定義\n",
    "model = torch.nn.Sequential(\n",
    "    torch.nn.Conv2d(3, 16, kernel_size=(3,3), stride=1, padding=(1,1)),\n",
    "    torch.nn.ReLU(),\n",
    "    torch.nn.Flatten(),\n",
    "    torch.nn.Linear(16*32*32,10),\n",
    "    torch.nn.Softmax(dim=1)\n",
    ")\n",
    "\n",
    "# 学習\n",
    "def exec_epoch(loader, model, train_flg, optimizer, criterion):\n",
    "    total_loss = 0.0\n",
    "    correct = 0\n",
    "    count = 0\n",
    "    for i, data in enumerate(loader, 0):\n",
    "        inputs, labels = data\n",
    "        if train_flg:\n",
    "            inputs, labels = torch.autograd.Variable(inputs), torch.autograd.Variable(labels)\n",
    "            optimizer.zero_grad()\n",
    "        outputs = model(inputs)\n",
    "        loss = criterion(outputs, labels)\n",
    "        if train_flg:\n",
    "            loss.backward()\n",
    "            optimizer.step()\n",
    "        total_loss += loss.item()\n",
    "        pred_y = outputs.argmax(axis=1)\n",
    "        correct += sum(labels==pred_y)\n",
    "        count += len(labels)\n",
    "    total_loss /= (i+1)\n",
    "    total_acc = 100 * correct / count\n",
    "    if train_flg:\n",
    "        print(f'train_loss: {total_loss:.3f} train_acc: {total_acc:.3f}%',end=' ')\n",
    "    else:\n",
    "        print(f'valid_loss: {total_loss:.3f} valid_acc: {total_acc:.3f}%')\n",
    "    return model\n",
    "\n",
    "criterion = torch.nn.CrossEntropyLoss()\n",
    "optimizer = torch.optim.Adam(params=model.parameters(), lr=0.00001)\n",
    "for epoch in range(2):\n",
    "    print(f'epoch: {epoch+1}',end=' ')\n",
    "    model = exec_epoch(trainloader, model, True, optimizer, criterion)\n",
    "    exec_epoch(validloader, model, False, optimizer, criterion)\n",
    "\n",
    "# モデル保存\n",
    "torch.save(model.state_dict(),'1.pth')"
   ]
  },
  {
   "cell_type": "code",
   "execution_count": null,
   "metadata": {},
   "outputs": [],
   "source": []
  }
 ],
 "metadata": {
  "kernelspec": {
   "display_name": "Python 3 (PyTorch 1.8 Python 3.6 CPU Optimized)",
   "language": "python",
   "name": "python3__SAGEMAKER_INTERNAL__arn:aws:sagemaker:us-east-2:429704687514:image/1.8.1-cpu-py36"
  },
  "language_info": {
   "codemirror_mode": {
    "name": "ipython",
    "version": 3
   },
   "file_extension": ".py",
   "mimetype": "text/x-python",
   "name": "python",
   "nbconvert_exporter": "python",
   "pygments_lexer": "ipython3",
   "version": "3.6.13"
  }
 },
 "nbformat": 4,
 "nbformat_minor": 4
}
