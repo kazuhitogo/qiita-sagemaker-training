{
 "cells": [
  {
   "cell_type": "code",
   "execution_count": null,
   "metadata": {
    "scrolled": true
   },
   "outputs": [],
   "source": [
    "!pip install sagemaker -U"
   ]
  },
  {
   "cell_type": "code",
   "execution_count": null,
   "metadata": {},
   "outputs": [],
   "source": [
    "import torch\n",
    "import torchvision\n",
    "\n",
    "# データロード\n",
    "train_data = torchvision.datasets.CIFAR10(root='./data', train=True, download=True, transform=torchvision.transforms.Compose([torchvision.transforms.ToTensor()]))\n",
    "train_data_loader = torch.utils.data.DataLoader(train_data, batch_size=4, shuffle=True, num_workers=2)\n",
    "valid_data = torchvision.datasets.CIFAR10(root='./data', train=False, download=True, transform=torchvision.transforms.Compose([torchvision.transforms.ToTensor()]))\n",
    "valid_data_loader = torch.utils.data.DataLoader(valid_data, batch_size=4,shuffle=False, num_workers=2)\n",
    "\n",
    "#モデル定義\n",
    "model = torch.nn.Sequential(\n",
    "    torch.nn.Conv2d(3, 16, kernel_size=(3,3), stride=1, padding=(1,1)),\n",
    "    torch.nn.ReLU(),\n",
    "    torch.nn.Flatten(),\n",
    "    torch.nn.Linear(16*32*32,10),\n",
    "    torch.nn.Softmax(dim=1)\n",
    ")\n",
    "\n",
    "# 学習\n",
    "def exec_epoch(loader, model, train_flg, optimizer, criterion):\n",
    "    total_loss = 0.0\n",
    "    correct = 0\n",
    "    count = 0\n",
    "    for i, data in enumerate(loader, 0):\n",
    "        inputs, labels = data\n",
    "        if train_flg:\n",
    "            inputs, labels = torch.autograd.Variable(inputs), torch.autograd.Variable(labels)\n",
    "            optimizer.zero_grad()\n",
    "        outputs = model(inputs)\n",
    "        loss = criterion(outputs, labels)\n",
    "        if train_flg:\n",
    "            loss.backward()\n",
    "            optimizer.step()\n",
    "        total_loss += loss.item()\n",
    "        pred_y = outputs.argmax(axis=1)\n",
    "        correct += sum(labels==pred_y)\n",
    "        count += len(labels)\n",
    "    total_loss /= (i+1)\n",
    "    total_acc = 100 * correct / count\n",
    "    if train_flg:\n",
    "        print(f'train_loss: {total_loss:.3f} train_acc: {total_acc:.3f}%',end=' ')\n",
    "    else:\n",
    "        print(f'valid_loss: {total_loss:.3f} valid_acc: {total_acc:.3f}%')\n",
    "    return model\n",
    "\n",
    "criterion = torch.nn.CrossEntropyLoss()\n",
    "optimizer = torch.optim.Adam(params=model.parameters(), lr=0.00001)\n",
    "for epoch in range(2):\n",
    "    print(f'epoch: {epoch+1}',end=' ')\n",
    "    model = exec_epoch(train_data_loader, model, True, optimizer, criterion)\n",
    "    exec_epoch(valid_data_loader, model, False, optimizer, criterion)\n",
    "\n",
    "# モデル保存\n",
    "torch.save(model.state_dict(),'1.pth')"
   ]
  },
  {
   "cell_type": "code",
   "execution_count": null,
   "metadata": {
    "scrolled": true
   },
   "outputs": [],
   "source": [
    "import sagemaker\n",
    "from sagemaker.pytorch import PyTorch\n",
    "\n",
    "estimator = PyTorch(\n",
    "    entry_point='./src/4-2-1/train.py',\n",
    "    py_version='py38', \n",
    "    framework_version='1.10.0',\n",
    "    instance_count=1,\n",
    "    instance_type='ml.m5.xlarge',\n",
    "    role=sagemaker.get_execution_role()\n",
    ")\n",
    "estimator.fit()"
   ]
  },
  {
   "cell_type": "code",
   "execution_count": null,
   "metadata": {
    "scrolled": true
   },
   "outputs": [],
   "source": [
    "import sagemaker\n",
    "from sagemaker.pytorch import PyTorch\n",
    "\n",
    "estimator = PyTorch(\n",
    "    entry_point='./src/4-2-2/train.py',\n",
    "    py_version='py38', \n",
    "    framework_version='1.10.0',\n",
    "    instance_count=1,\n",
    "    instance_type='ml.m5.xlarge',\n",
    "    role=sagemaker.get_execution_role()\n",
    ")\n",
    "estimator.fit()"
   ]
  },
  {
   "cell_type": "code",
   "execution_count": null,
   "metadata": {},
   "outputs": [],
   "source": [
    "# モデルの URI を取得\n",
    "model_uri = estimator.latest_training_job.describe()['ModelArtifacts']['S3ModelArtifacts']\n",
    "# モデルをローカルにコピーして解凍\n",
    "!aws s3 cp {model_uri} ./\n",
    "!tar zxvf model.tar.gz\n",
    "# モデルの読み込み\n",
    "import torch\n",
    "model = torch.nn.Sequential(\n",
    "    torch.nn.Conv2d(3, 16, kernel_size=(3,3), stride=1, padding=(1,1)),\n",
    "    torch.nn.ReLU(),\n",
    "    torch.nn.Flatten(),\n",
    "    torch.nn.Linear(16*32*32,10),\n",
    "    torch.nn.Softmax(dim=1)\n",
    ")\n",
    "model.load_state_dict(torch.load('1.pth'))\n",
    "print(model)"
   ]
  },
  {
   "cell_type": "code",
   "execution_count": null,
   "metadata": {},
   "outputs": [],
   "source": [
    "import torchvision\n",
    "import numpy as np\n",
    "import torch\n",
    "import sagemaker\n",
    "import os\n",
    "\n",
    "train_dir = './train'\n",
    "valid_dir = './valid'\n",
    "\n",
    "!rm -rf {train_dir}\n",
    "!rm -rf {valid_dir}\n",
    "!mkdir -p {train_dir}\n",
    "!mkdir -p {valid_dir}\n",
    "train_data = torchvision.datasets.CIFAR10(root='./data', train=True, download=True, transform=torchvision.transforms.Compose([torchvision.transforms.ToTensor()]))\n",
    "train_data_loader = torch.utils.data.DataLoader(train_data, batch_size=len(train_data))\n",
    "valid_data = torchvision.datasets.CIFAR10(root='./data', train=False, download=True, transform=torchvision.transforms.Compose([torchvision.transforms.ToTensor()]))\n",
    "valid_data_loader = torch.utils.data.DataLoader(valid_data, batch_size=len(valid_data))\n",
    "\n",
    "train_data_loaded = next(iter(train_data_loader))\n",
    "torch.save(train_data_loaded, os.path.join(train_dir, 'train.pt'))\n",
    "valid_data_loaded = next(iter(valid_data_loader))\n",
    "torch.save(valid_data_loaded, os.path.join(valid_dir, 'valid.pt'))\n",
    "\n",
    "train_s3_uri = sagemaker.session.Session().upload_data(path=train_dir, bucket=sagemaker.session.Session().default_bucket(), key_prefix='training/4-2/train')\n",
    "valid_s3_uri = sagemaker.session.Session().upload_data(path=valid_dir, bucket=sagemaker.session.Session().default_bucket(), key_prefix='training/4-2/valid')"
   ]
  },
  {
   "cell_type": "code",
   "execution_count": null,
   "metadata": {
    "scrolled": true
   },
   "outputs": [],
   "source": [
    "import sagemaker\n",
    "from sagemaker.pytorch import PyTorch\n",
    "\n",
    "estimator = PyTorch(\n",
    "    entry_point='./src/4-2-3/train.py',\n",
    "    py_version='py38', \n",
    "    framework_version='1.10.0',\n",
    "    instance_count=1,\n",
    "    instance_type='ml.m5.xlarge',\n",
    "    role=sagemaker.get_execution_role()\n",
    ")\n",
    "estimator.fit({\n",
    "    'train':train_s3_uri,\n",
    "    'valid':valid_s3_uri,\n",
    "})"
   ]
  },
  {
   "cell_type": "code",
   "execution_count": null,
   "metadata": {},
   "outputs": [],
   "source": [
    "# モデルの URI を取得\n",
    "model_uri = estimator.latest_training_job.describe()['ModelArtifacts']['S3ModelArtifacts']\n",
    "# モデルをローカルにコピーして解凍\n",
    "!aws s3 cp {model_uri} ./\n",
    "!tar zxvf model.tar.gz\n",
    "# モデルの読み込み\n",
    "import torch\n",
    "model = torch.nn.Sequential(\n",
    "    torch.nn.Conv2d(3, 16, kernel_size=(3,3), stride=1, padding=(1,1)),\n",
    "    torch.nn.ReLU(),\n",
    "    torch.nn.Flatten(),\n",
    "    torch.nn.Linear(16*32*32,10),\n",
    "    torch.nn.Softmax(dim=1)\n",
    ")\n",
    "model.load_state_dict(torch.load('1.pth'))\n",
    "print(model)"
   ]
  },
  {
   "cell_type": "code",
   "execution_count": null,
   "metadata": {},
   "outputs": [],
   "source": []
  }
 ],
 "metadata": {
  "instance_type": "ml.m5.large",
  "kernelspec": {
   "display_name": "Python 3 (PyTorch 1.8 Python 3.6 CPU Optimized)",
   "language": "python",
   "name": "python3__SAGEMAKER_INTERNAL__arn:aws:sagemaker:us-east-2:429704687514:image/1.8.1-cpu-py36"
  },
  "language_info": {
   "codemirror_mode": {
    "name": "ipython",
    "version": 3
   },
   "file_extension": ".py",
   "mimetype": "text/x-python",
   "name": "python",
   "nbconvert_exporter": "python",
   "pygments_lexer": "ipython3",
   "version": "3.6.13"
  }
 },
 "nbformat": 4,
 "nbformat_minor": 4
}
